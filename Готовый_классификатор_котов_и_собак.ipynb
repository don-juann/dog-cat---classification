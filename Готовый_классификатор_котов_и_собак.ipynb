{
  "nbformat": 4,
  "nbformat_minor": 0,
  "metadata": {
    "colab": {
      "provenance": []
    },
    "kernelspec": {
      "name": "python3",
      "display_name": "Python 3"
    },
    "language_info": {
      "name": "python"
    }
  },
  "cells": [
    {
      "cell_type": "code",
      "source": [
        "!pip install keras==3.2.1"
      ],
      "metadata": {
        "colab": {
          "base_uri": "https://localhost:8080/"
        },
        "id": "uILbQ9xyleOK",
        "outputId": "3c166ddf-3d2f-4fa7-d352-843a8de52574"
      },
      "execution_count": 1,
      "outputs": [
        {
          "output_type": "stream",
          "name": "stdout",
          "text": [
            "Collecting keras==3.2.1\n",
            "  Downloading keras-3.2.1-py3-none-any.whl (1.1 MB)\n",
            "\u001b[2K     \u001b[90m━━━━━━━━━━━━━━━━━━━━━━━━━━━━━━━━━━━━━━━━\u001b[0m \u001b[32m1.1/1.1 MB\u001b[0m \u001b[31m9.0 MB/s\u001b[0m eta \u001b[36m0:00:00\u001b[0m\n",
            "\u001b[?25hRequirement already satisfied: absl-py in /usr/local/lib/python3.10/dist-packages (from keras==3.2.1) (1.4.0)\n",
            "Requirement already satisfied: numpy in /usr/local/lib/python3.10/dist-packages (from keras==3.2.1) (1.25.2)\n",
            "Requirement already satisfied: rich in /usr/local/lib/python3.10/dist-packages (from keras==3.2.1) (13.7.1)\n",
            "Collecting namex (from keras==3.2.1)\n",
            "  Downloading namex-0.0.8-py3-none-any.whl (5.8 kB)\n",
            "Requirement already satisfied: h5py in /usr/local/lib/python3.10/dist-packages (from keras==3.2.1) (3.9.0)\n",
            "Collecting optree (from keras==3.2.1)\n",
            "  Downloading optree-0.11.0-cp310-cp310-manylinux_2_17_x86_64.manylinux2014_x86_64.whl (311 kB)\n",
            "\u001b[2K     \u001b[90m━━━━━━━━━━━━━━━━━━━━━━━━━━━━━━━━━━━━━━━━\u001b[0m \u001b[32m311.2/311.2 kB\u001b[0m \u001b[31m13.8 MB/s\u001b[0m eta \u001b[36m0:00:00\u001b[0m\n",
            "\u001b[?25hRequirement already satisfied: ml-dtypes in /usr/local/lib/python3.10/dist-packages (from keras==3.2.1) (0.2.0)\n",
            "Requirement already satisfied: typing-extensions>=4.0.0 in /usr/local/lib/python3.10/dist-packages (from optree->keras==3.2.1) (4.11.0)\n",
            "Requirement already satisfied: markdown-it-py>=2.2.0 in /usr/local/lib/python3.10/dist-packages (from rich->keras==3.2.1) (3.0.0)\n",
            "Requirement already satisfied: pygments<3.0.0,>=2.13.0 in /usr/local/lib/python3.10/dist-packages (from rich->keras==3.2.1) (2.16.1)\n",
            "Requirement already satisfied: mdurl~=0.1 in /usr/local/lib/python3.10/dist-packages (from markdown-it-py>=2.2.0->rich->keras==3.2.1) (0.1.2)\n",
            "Installing collected packages: namex, optree, keras\n",
            "  Attempting uninstall: keras\n",
            "    Found existing installation: keras 2.15.0\n",
            "    Uninstalling keras-2.15.0:\n",
            "      Successfully uninstalled keras-2.15.0\n",
            "\u001b[31mERROR: pip's dependency resolver does not currently take into account all the packages that are installed. This behaviour is the source of the following dependency conflicts.\n",
            "tensorflow 2.15.0 requires keras<2.16,>=2.15.0, but you have keras 3.2.1 which is incompatible.\u001b[0m\u001b[31m\n",
            "\u001b[0mSuccessfully installed keras-3.2.1 namex-0.0.8 optree-0.11.0\n"
          ]
        }
      ]
    },
    {
      "cell_type": "code",
      "execution_count": 2,
      "metadata": {
        "id": "2JhRXYO6bWte"
      },
      "outputs": [],
      "source": [
        "import numpy as np\n",
        "from PIL import Image\n",
        "from tensorflow.keras.models import load_model\n",
        "from google.colab import drive"
      ]
    },
    {
      "cell_type": "code",
      "source": [
        "drive.mount(\"/content/drive\")\n",
        "model_path = '/content/drive/MyDrive/model_2.keras'"
      ],
      "metadata": {
        "colab": {
          "base_uri": "https://localhost:8080/"
        },
        "id": "Jysy80GMb64p",
        "outputId": "b17a5f36-1160-46f6-80ab-25d1dfc60519"
      },
      "execution_count": 3,
      "outputs": [
        {
          "output_type": "stream",
          "name": "stdout",
          "text": [
            "Mounted at /content/drive\n"
          ]
        }
      ]
    },
    {
      "cell_type": "code",
      "source": [
        "model = load_model(model_path)"
      ],
      "metadata": {
        "id": "ut1wN5THYz4P"
      },
      "execution_count": 4,
      "outputs": []
    },
    {
      "cell_type": "code",
      "source": [
        "IMG_SIZE = 128\n",
        "\n",
        "def load_image(file_path): # Функция для загрузки и обработки изображения\n",
        "    image = Image.open(file_path)\n",
        "    image = image.resize((IMG_SIZE, IMG_SIZE)) # Изменить размеры изображения до стандарта\n",
        "    image = np.array(image) / 255.0  # Нормализация\n",
        "    return image\n",
        "\n",
        "def print_msg_box(msg, indent=1, width=None, title=None): # Функция для декорации текста\n",
        "    \"\"\"Print message-box with optional title.\"\"\"\n",
        "    lines = msg.split('\\n')\n",
        "    space = \" \" * indent\n",
        "    if not width:\n",
        "        width = max(map(len, lines))\n",
        "    box = f'╔{\"═\" * (width + indent * 2)}╗\\n'  # upper_border\n",
        "    if title:\n",
        "        box += f'║{space}{title:<{width}}{space}║\\n'  # title\n",
        "        box += f'║{space}{\"-\" * len(title):<{width}}{space}║\\n'  # underscore\n",
        "    box += ''.join([f'║{space}{line:<{width}}{space}║\\n' for line in lines])\n",
        "    box += f'╚{\"═\" * (width + indent * 2)}╝'  # lower_border\n",
        "    print(box)\n",
        "\n",
        "def pred(img_path): # Функция для предсказания\n",
        "    img = load_image(img_path) # Ссылка на изображение\n",
        "    img = np.expand_dims(img, axis=0)  # Добавить измерение для батча\n",
        "    prediction = model.predict(img)\n",
        "\n",
        "    if prediction[0][0] > 0.5:\n",
        "      print_msg_box(\"\\nПредсказание: Собака\\n\", indent=10)\n",
        "    else:\n",
        "      print_msg_box(\"\\nПредсказание: Кот\\n\", indent=10)\n"
      ],
      "metadata": {
        "id": "mHCkCzIUcZUh"
      },
      "execution_count": 11,
      "outputs": []
    },
    {
      "cell_type": "code",
      "source": [],
      "metadata": {
        "id": "9ZiuD6xZciTg"
      },
      "execution_count": 8,
      "outputs": []
    },
    {
      "cell_type": "code",
      "source": [],
      "metadata": {
        "id": "Bw4hNCjwqpNK"
      },
      "execution_count": null,
      "outputs": []
    },
    {
      "cell_type": "code",
      "source": [],
      "metadata": {
        "id": "2y2cErPvqpfm"
      },
      "execution_count": null,
      "outputs": []
    },
    {
      "cell_type": "code",
      "source": [
        "pred('')"
      ],
      "metadata": {
        "id": "vRlklZoIojx6"
      },
      "execution_count": null,
      "outputs": []
    }
  ]
}